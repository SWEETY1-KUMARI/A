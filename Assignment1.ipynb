{
  "nbformat": 4,
  "nbformat_minor": 0,
  "metadata": {
    "colab": {
      "provenance": []
    },
    "kernelspec": {
      "name": "python3",
      "display_name": "Python 3"
    },
    "language_info": {
      "name": "python"
    }
  },
  "cells": [
    {
      "cell_type": "markdown",
      "source": [
        "**Sweety kumari**"
      ],
      "metadata": {
        "id": "oQGP5irgJo93"
      }
    },
    {
      "cell_type": "markdown",
      "source": [
        "**Topic - Python**"
      ],
      "metadata": {
        "id": "RRl5HFfAJ-2X"
      }
    },
    {
      "cell_type": "markdown",
      "source": [
        "Q1. Create one variable containing following type of data:\n",
        "(i) string\n",
        "(ii) list\n",
        "(iii) float\n",
        "(iv) tuple"
      ],
      "metadata": {
        "id": "6YL7Bx3tKL-b"
      }
    },
    {
      "cell_type": "code",
      "execution_count": 5,
      "metadata": {
        "colab": {
          "base_uri": "https://localhost:8080/"
        },
        "id": "iuSbcrVgJkAP",
        "outputId": "740024f4-e179-40d1-f842-4ed4df1fb278"
      },
      "outputs": [
        {
          "output_type": "execute_result",
          "data": {
            "text/plain": [
              "str"
            ]
          },
          "metadata": {},
          "execution_count": 5
        }
      ],
      "source": [
        "s='sweety'\n",
        "type(s)"
      ]
    },
    {
      "cell_type": "code",
      "source": [
        "l=[1,5,'a',]\n",
        "type(l)"
      ],
      "metadata": {
        "colab": {
          "base_uri": "https://localhost:8080/"
        },
        "id": "mLP8JGv0KWOS",
        "outputId": "7315eeb2-5697-4157-b7d5-58c9f6ec27b6"
      },
      "execution_count": 6,
      "outputs": [
        {
          "output_type": "execute_result",
          "data": {
            "text/plain": [
              "list"
            ]
          },
          "metadata": {},
          "execution_count": 6
        }
      ]
    },
    {
      "cell_type": "code",
      "source": [
        "p=3.\n",
        "type(p)"
      ],
      "metadata": {
        "colab": {
          "base_uri": "https://localhost:8080/"
        },
        "id": "0AKmkesaKa1r",
        "outputId": "b7856363-355d-463b-8217-34dd416cf400"
      },
      "execution_count": 7,
      "outputs": [
        {
          "output_type": "execute_result",
          "data": {
            "text/plain": [
              "float"
            ]
          },
          "metadata": {},
          "execution_count": 7
        }
      ]
    },
    {
      "cell_type": "code",
      "source": [
        "g=(3,4,5,1)\n",
        "type(g)"
      ],
      "metadata": {
        "colab": {
          "base_uri": "https://localhost:8080/"
        },
        "id": "nTeECl8FKd33",
        "outputId": "6221219b-b3ed-4542-ee31-9aaaa7efa314"
      },
      "execution_count": 8,
      "outputs": [
        {
          "output_type": "execute_result",
          "data": {
            "text/plain": [
              "tuple"
            ]
          },
          "metadata": {},
          "execution_count": 8
        }
      ]
    },
    {
      "cell_type": "markdown",
      "source": [
        "Q2. Given are some following variables containing data:\n",
        "(i) var1 = ‘ ‘\n",
        "(ii) var2 = ‘[ DS , ML , Python]’\n",
        "(iii) var3 = [ ‘DS’ , ’ML’ , ‘Python’ ]\n",
        "(iv) var4 = 1.\n",
        "What will be the data type of the above given variable."
      ],
      "metadata": {
        "id": "i9i9UPo2K8Qa"
      }
    },
    {
      "cell_type": "markdown",
      "source": [
        "\n",
        "\n",
        "1.   var1 = ‘ ‘- string \n",
        "2.   var2 = ‘[ DS , ML , Python]’ - string\n",
        "3.    var3 = [ ‘DS’ , ’ML’ , ‘Python’ ] - list\n",
        "4.     var4 = 1. - int\n",
        "\n",
        "\n",
        "\n",
        "\n",
        "\n",
        "\n"
      ],
      "metadata": {
        "id": "5aGvyHwSLFKz"
      }
    },
    {
      "cell_type": "markdown",
      "source": [
        "Q3. Explain the use of the following operators using an example:\n",
        "(i) /\n",
        "(ii) %\n",
        "(iii) //\n",
        "(iv) **"
      ],
      "metadata": {
        "id": "05p1Mi_aLzdB"
      }
    },
    {
      "cell_type": "markdown",
      "source": [
        "\n",
        "\n",
        "1.    / - This is used for division operation.\n",
        "2.  %  - This gives the remainder.\n",
        "3.  // - This is the floor division operator.\n",
        "4.  ** - This is used for exponential power.\n",
        "\n"
      ],
      "metadata": {
        "id": "syBuiPGZL2au"
      }
    },
    {
      "cell_type": "markdown",
      "source": [
        "Q4. Create a list of length 10 of your choice containing multiple types of data. Using for loop print the\n",
        "element and its data type."
      ],
      "metadata": {
        "id": "K5q6_txcM08O"
      }
    },
    {
      "cell_type": "code",
      "source": [
        "l=[1,2,35,'sweety',5.6,'a','d',4,7,10]\n",
        "for i in l:\n",
        "  print (i)\n",
        "  print(type(i))"
      ],
      "metadata": {
        "colab": {
          "base_uri": "https://localhost:8080/"
        },
        "id": "gJHEHI1nLBhv",
        "outputId": "afc0e7cc-2010-495d-d6f2-c25654123d20"
      },
      "execution_count": 13,
      "outputs": [
        {
          "output_type": "stream",
          "name": "stdout",
          "text": [
            "1\n",
            "<class 'int'>\n",
            "2\n",
            "<class 'int'>\n",
            "35\n",
            "<class 'int'>\n",
            "sweety\n",
            "<class 'str'>\n",
            "5.6\n",
            "<class 'float'>\n",
            "a\n",
            "<class 'str'>\n",
            "d\n",
            "<class 'str'>\n",
            "4\n",
            "<class 'int'>\n",
            "7\n",
            "<class 'int'>\n",
            "10\n",
            "<class 'int'>\n"
          ]
        }
      ]
    },
    {
      "cell_type": "markdown",
      "source": [
        "Q5. Using a while loop, verify if the number A is purely divisible by number B and if so then how many\n",
        "times it can be divisible."
      ],
      "metadata": {
        "id": "wsGikAF-NF_I"
      }
    },
    {
      "cell_type": "code",
      "source": [
        "A = int(input(\"Enter the dividend (number A): \"))\n",
        "B = int(input(\"Enter the divisor (number B): \"))\n",
        "\n",
        "count = 0  # Initialize count to keep track of divisions\n",
        "\n",
        "while A % B == 0:\n",
        "    A = A // B\n",
        "    count += 1\n",
        "\n",
        "if A == 0:\n",
        "    print(f\"{A} is purely divisible by {B}.\")\n",
        "    print(f\"It can be divided {count} times.\")\n",
        "else:\n",
        "    print(f\"{A} is purely divisible by {B}.\")\n"
      ],
      "metadata": {
        "colab": {
          "base_uri": "https://localhost:8080/"
        },
        "id": "zf2SYDY8QHwQ",
        "outputId": "5b67afc0-ded6-45db-a8f2-8861ad80e106"
      },
      "execution_count": 22,
      "outputs": [
        {
          "output_type": "stream",
          "name": "stdout",
          "text": [
            "Enter the dividend (number A): 100\n",
            "Enter the divisor (number B): 10\n",
            "1 is purely divisible by 10.\n"
          ]
        }
      ]
    },
    {
      "cell_type": "markdown",
      "source": [
        "Q6. Create a list containing 25 int type data. Using for loop and if-else condition print if the element is\n",
        "divisible by 3 or not."
      ],
      "metadata": {
        "id": "cT9TiqyAN0PA"
      }
    },
    {
      "cell_type": "code",
      "source": [
        "l=[1,2,3,4,5,6,7,8,9,10,20,30,40,50,60,70,80,90,100,200,300,400,500,600,700]\n",
        "for i in l:\n",
        "  if(i%3==0):\n",
        "   print(i)"
      ],
      "metadata": {
        "colab": {
          "base_uri": "https://localhost:8080/"
        },
        "id": "RvJE6KtJOA0N",
        "outputId": "49af9a3c-fee3-435a-ef78-8b36c1a51e31"
      },
      "execution_count": 15,
      "outputs": [
        {
          "output_type": "stream",
          "name": "stdout",
          "text": [
            "3\n",
            "6\n",
            "9\n",
            "30\n",
            "60\n",
            "90\n",
            "300\n",
            "600\n"
          ]
        }
      ]
    },
    {
      "cell_type": "markdown",
      "source": [
        "Q7. What do you understand about mutable and immutable data types? Give examples for both showing\n",
        "this property."
      ],
      "metadata": {
        "id": "LWDa5n7yN5vx"
      }
    },
    {
      "cell_type": "markdown",
      "source": [
        "1.  **mutable**\n",
        "x = 5\n",
        "print(x)  # Output: 5\n",
        "\n",
        "x = 10  # The value of x is reassigned, not modified\n",
        "print(x)  # Output: 10\n",
        "\n",
        "In the above example, the integer x is assigned the value 5. Later, we reassign the variable x to 10. Here, we are not modifying the original value 5, but creating a new object with the value 10.\n",
        "\n",
        "2.  **immutable**\n",
        "\n",
        "\n",
        "\n",
        "my_list = [1, 2, 3]\n",
        "print(my_list)  # Output: [1, 2, 3]\n",
        "\n",
        "my_list.append(4)  # Modifying the list by adding an element\n",
        "print(my_list)  # Output: [1, 2, 3, 4]\n",
        "\n",
        "my_list[0] = 0  # Modifying an element at a specific index\n",
        "print(my_list)  # Output: [0, 2, 3, 4]\n",
        "\n",
        "In this example, the list my_list is initially [1, 2, 3]. We modify it by appending 4 using the append() method, and then modify the element at index 0 by assigning 0 to it. In both cases, the list is modified in place without creating a new list object.\n"
      ],
      "metadata": {
        "id": "0vUj8QhsO9yJ"
      }
    },
    {
      "cell_type": "code",
      "source": [],
      "metadata": {
        "id": "rXRtD7y-O9f3"
      },
      "execution_count": null,
      "outputs": []
    },
    {
      "cell_type": "code",
      "source": [],
      "metadata": {
        "id": "-31naxYtN5Jk"
      },
      "execution_count": null,
      "outputs": []
    }
  ]
}